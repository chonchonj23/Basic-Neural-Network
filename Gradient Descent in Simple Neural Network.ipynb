{
 "cells": [
  {
   "cell_type": "code",
   "execution_count": 15,
   "metadata": {},
   "outputs": [],
   "source": [
    "import numpy as np\n",
    "import pandas as pd\n",
    "import matplotlib.pyplot as plt\n",
    "\n",
    "admissions = pd.read_csv('binary.csv')\n",
    "\n",
    "# Make dummy variables for rank\n",
    "data_full = pd.concat([admissions, pd.get_dummies(admissions['rank'], prefix='rank')], axis=1)\n",
    "data_full = data_full.drop('rank', axis=1)\n",
    "\n",
    "# Standarize features\n",
    "for field in ['gre', 'gpa']:\n",
    "    mean, std = data_full[field].mean(), data_full[field].std()\n",
    "    data_full.loc[:,field] = (data_full[field]-mean)/std\n",
    "\n",
    "# Split off random 10% of the data for testing\n",
    "np.random.seed(42)\n",
    "sample = np.random.choice(data_full.index, size=int(len(data_full)*0.9), replace=False)\n",
    "data, test_data = data_full.iloc[sample], data_full.drop(sample)\n",
    "\n",
    "# Split into features and targets\n",
    "features, targets = data.drop('admit', axis=1), data['admit']\n",
    "features_test, targets_test = test_data.drop('admit', axis=1), test_data['admit']"
   ]
  },
  {
   "cell_type": "code",
   "execution_count": 26,
   "metadata": {},
   "outputs": [],
   "source": [
    "def plot_points(X, y):\n",
    "    admitted = X[np.argwhere(y==1)]\n",
    "    rejected = X[np.argwhere(y==0)]\n",
    "    plt.scatter([s[0][0] for s in rejected], [s[0][1] for s in rejected], s = 25, color = 'aqua', edgecolor = 'k')\n",
    "    plt.scatter([s[0][0] for s in admitted], [s[0][1] for s in admitted], s = 25, color = 'red', edgecolor = 'k')"
   ]
  },
  {
   "cell_type": "code",
   "execution_count": 28,
   "metadata": {},
   "outputs": [
    {
     "data": {
      "image/png": "[encoded data removed]",
      "text/plain": [
       "<Figure size 432x288 with 1 Axes>"
      ]
     },
     "metadata": {
      "needs_background": "light"
     },
     "output_type": "display_data"
    }
   ],
   "source": [
    "plt.title(\"Admitted (red) vs rejected (aqua) - original data\")\n",
    "plot_points(np.array(data_full[['gre', 'gpa']]), np.array(data_full['admit']))\n",
    "plt.show()"
   ]
  },
  {
   "cell_type": "code",
   "execution_count": 31,
   "metadata": {},
   "outputs": [
    {
     "name": "stdout",
     "output_type": "stream",
     "text": [
      "Train loss:  0.2627609384996635\n",
      "Train loss:  0.22805408803546176\n",
      "Train loss:  0.21337877168621391\n",
      "Train loss:  0.20640957578762922\n",
      "Train loss:  0.20283359948145654\n",
      "Train loss:  0.20084292908073426\n",
      "Train loss:  0.19965237864766358\n",
      "Train loss:  0.19889704649582163\n",
      "Train loss:  0.19839437409384728\n",
      "Train loss:  0.19804667396363998\n",
      "Train loss:  0.1977985139668603\n",
      "Train loss:  0.19761680473555035\n",
      "Train loss:  0.1974809134278261\n",
      "Train loss:  0.19737748294982918\n",
      "Train loss:  0.19729758343267645\n",
      "Train loss:  0.1972350774624106\n",
      "Train loss:  0.19718564524753648\n",
      "Train loss:  0.1971461830861291\n",
      "Train loss:  0.19711442070342722\n",
      "Train loss:  0.19708867115488232\n",
      "Train loss:  0.19706766341315082\n",
      "Train loss:  0.19705042790598762\n",
      "Train loss:  0.19703621677464653\n",
      "Train loss:  0.19702444738422745\n",
      "Train loss:  0.1970146617015267\n",
      "Prediction accuracy: 0.725\n"
     ]
    }
   ],
   "source": [
    "import numpy as np\n",
    "from data_prep import features, targets, features_test, targets_test\n",
    "\n",
    "\n",
    "def sigmoid(x):\n",
    "    \"\"\"\n",
    "    Calculate sigmoid\n",
    "    \"\"\"\n",
    "    return 1 / (1 + np.exp(-x))\n",
    "\n",
    "\n",
    "def sigmoid_prime(x):\n",
    "    \"\"\"\n",
    "    # Derivative of the sigmoid function\n",
    "    \"\"\"\n",
    "    return (1 - 1/sigmoid(x))\n",
    "\n",
    "\n",
    "# Use to same seed to make debugging easier\n",
    "np.random.seed(42)\n",
    "\n",
    "n_records, n_features = features.shape\n",
    "last_loss = None\n",
    "\n",
    "# Initialize weights\n",
    "weights = np.random.normal(scale=1 / n_features**.5, size=n_features)\n",
    "\n",
    "# Neural Network hyperparameters\n",
    "epochs = 1000\n",
    "learnrate = 0.5\n",
    "\n",
    "for e in range(epochs):\n",
    "    del_w = np.zeros(weights.shape)\n",
    "    for x, y in zip(features.values, targets):\n",
    "        # Loop through all records, x is the input, y is the target\n",
    "\n",
    "        # Calculate the output\n",
    "        output = sigmoid(np.dot(x, weights))\n",
    "\n",
    "        # Calculate the error\n",
    "        error = y - output\n",
    "\n",
    "        # Calculate the error term\n",
    "        error_term = error * output * (1 - output)\n",
    "\n",
    "        # Calculate the change in weights for this sample and add it to the total weight change\n",
    "        del_w += error_term * x  # accumulating error for each data point\n",
    "\n",
    "    # Update weights using the learning rate and the average change in weights\n",
    "    weights += learnrate * del_w / n_records    # the magic of gradient descent happens here\n",
    "\n",
    "    # Printing out the mean square error on the training set\n",
    "#     if e % (epochs / 10) == 0:\n",
    "    if e % 40 == 0:\n",
    "        out = sigmoid(np.dot(features, weights))\n",
    "        loss = np.mean((out - targets) ** 2)\n",
    "        if last_loss and last_loss < loss:\n",
    "            print(\"Train loss: \", loss, \"  WARNING - Loss Increasing\")\n",
    "        else:\n",
    "            print(\"Train loss: \", loss)\n",
    "        last_loss = loss\n",
    "\n",
    "\n",
    "# Calculate accuracy on test data\n",
    "tes_out = sigmoid(np.dot(features_test, weights))\n",
    "predictions = tes_out > 0.5\n",
    "accuracy = np.mean(predictions == targets_test)\n",
    "print(\"Prediction accuracy: {:.3f}\".format(accuracy))"
   ]
  },
  {
   "cell_type": "code",
   "execution_count": null,
   "metadata": {},
   "outputs": [],
   "source": []
  }
 ],
 "metadata": {
  "kernelspec": {
   "display_name": "Python 3",
   "language": "python",
   "name": "python3"
  },
  "language_info": {
   "codemirror_mode": {
    "name": "ipython",
    "version": 3
   },
   "file_extension": ".py",
   "mimetype": "text/x-python",
   "name": "python",
   "nbconvert_exporter": "python",
   "pygments_lexer": "ipython3",
   "version": "3.6.8"
  }
 },
 "nbformat": 4,
 "nbformat_minor": 2
}
